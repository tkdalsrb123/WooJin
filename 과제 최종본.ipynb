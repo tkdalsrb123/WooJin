{
 "cells": [
  {
   "cell_type": "code",
   "execution_count": 1,
   "metadata": {},
   "outputs": [],
   "source": [
    "import pandas as pd\n",
    "import numpy as np"
   ]
  },
  {
   "cell_type": "code",
   "execution_count": 21,
   "metadata": {},
   "outputs": [
    {
     "data": {
      "text/html": [
       "<div>\n",
       "<style scoped>\n",
       "    .dataframe tbody tr th:only-of-type {\n",
       "        vertical-align: middle;\n",
       "    }\n",
       "\n",
       "    .dataframe tbody tr th {\n",
       "        vertical-align: top;\n",
       "    }\n",
       "\n",
       "    .dataframe thead th {\n",
       "        text-align: right;\n",
       "    }\n",
       "</style>\n",
       "<table border=\"1\" class=\"dataframe\">\n",
       "  <thead>\n",
       "    <tr style=\"text-align: right;\">\n",
       "      <th></th>\n",
       "      <th>구분연월</th>\n",
       "      <th>행태별 - 개별여행</th>\n",
       "      <th>행태별 - 부분패키지</th>\n",
       "      <th>행태별 - 패키지</th>\n",
       "      <th>목적별 - 레저스포츠</th>\n",
       "      <th>목적별 - 회의및업무</th>\n",
       "      <th>목적별 - 휴양및관람</th>\n",
       "      <th>목적별 - 친지방문</th>\n",
       "      <th>목적별 - 교육여행</th>\n",
       "      <th>목적별 - 기타방문</th>\n",
       "      <th>데이터기준일자</th>\n",
       "    </tr>\n",
       "  </thead>\n",
       "  <tbody>\n",
       "    <tr>\n",
       "      <th>0</th>\n",
       "      <td>20-Jan</td>\n",
       "      <td>1028221</td>\n",
       "      <td>54338</td>\n",
       "      <td>21879</td>\n",
       "      <td>120890</td>\n",
       "      <td>40753</td>\n",
       "      <td>823210</td>\n",
       "      <td>105958</td>\n",
       "      <td>144</td>\n",
       "      <td>13483</td>\n",
       "      <td>2020-12-31</td>\n",
       "    </tr>\n",
       "    <tr>\n",
       "      <th>1</th>\n",
       "      <td>20-Feb</td>\n",
       "      <td>581380</td>\n",
       "      <td>15921</td>\n",
       "      <td>2274</td>\n",
       "      <td>30042</td>\n",
       "      <td>76200</td>\n",
       "      <td>408295</td>\n",
       "      <td>70514</td>\n",
       "      <td>0</td>\n",
       "      <td>14524</td>\n",
       "      <td>2020-12-31</td>\n",
       "    </tr>\n",
       "    <tr>\n",
       "      <th>2</th>\n",
       "      <td>20-Mar</td>\n",
       "      <td>468096</td>\n",
       "      <td>7945</td>\n",
       "      <td>1135</td>\n",
       "      <td>27280</td>\n",
       "      <td>54477</td>\n",
       "      <td>324593</td>\n",
       "      <td>56747</td>\n",
       "      <td>0</td>\n",
       "      <td>14079</td>\n",
       "      <td>2020-12-31</td>\n",
       "    </tr>\n",
       "    <tr>\n",
       "      <th>3</th>\n",
       "      <td>20-Apr</td>\n",
       "      <td>533225</td>\n",
       "      <td>5400</td>\n",
       "      <td>2474</td>\n",
       "      <td>28394</td>\n",
       "      <td>53859</td>\n",
       "      <td>381297</td>\n",
       "      <td>67017</td>\n",
       "      <td>0</td>\n",
       "      <td>10532</td>\n",
       "      <td>2020-12-31</td>\n",
       "    </tr>\n",
       "    <tr>\n",
       "      <th>4</th>\n",
       "      <td>20-May</td>\n",
       "      <td>750271</td>\n",
       "      <td>13458</td>\n",
       "      <td>1887</td>\n",
       "      <td>57543</td>\n",
       "      <td>57824</td>\n",
       "      <td>584612</td>\n",
       "      <td>55751</td>\n",
       "      <td>120</td>\n",
       "      <td>9766</td>\n",
       "      <td>2020-12-31</td>\n",
       "    </tr>\n",
       "    <tr>\n",
       "      <th>5</th>\n",
       "      <td>20-Jun</td>\n",
       "      <td>846253</td>\n",
       "      <td>8157</td>\n",
       "      <td>6118</td>\n",
       "      <td>27181</td>\n",
       "      <td>59140</td>\n",
       "      <td>681136</td>\n",
       "      <td>87691</td>\n",
       "      <td>0</td>\n",
       "      <td>5380</td>\n",
       "      <td>2020-12-31</td>\n",
       "    </tr>\n",
       "    <tr>\n",
       "      <th>6</th>\n",
       "      <td>20-Jul</td>\n",
       "      <td>968395</td>\n",
       "      <td>12874</td>\n",
       "      <td>6825</td>\n",
       "      <td>49742</td>\n",
       "      <td>68728</td>\n",
       "      <td>749450</td>\n",
       "      <td>109765</td>\n",
       "      <td>0</td>\n",
       "      <td>10409</td>\n",
       "      <td>2020-12-31</td>\n",
       "    </tr>\n",
       "    <tr>\n",
       "      <th>7</th>\n",
       "      <td>20-Aug</td>\n",
       "      <td>1077542</td>\n",
       "      <td>22866</td>\n",
       "      <td>26689</td>\n",
       "      <td>47232</td>\n",
       "      <td>45202</td>\n",
       "      <td>999753</td>\n",
       "      <td>26589</td>\n",
       "      <td>100</td>\n",
       "      <td>8221</td>\n",
       "      <td>2020-12-31</td>\n",
       "    </tr>\n",
       "    <tr>\n",
       "      <th>8</th>\n",
       "      <td>20-Sep</td>\n",
       "      <td>707026</td>\n",
       "      <td>13942</td>\n",
       "      <td>5201</td>\n",
       "      <td>52730</td>\n",
       "      <td>39936</td>\n",
       "      <td>547341</td>\n",
       "      <td>74683</td>\n",
       "      <td>0</td>\n",
       "      <td>11479</td>\n",
       "      <td>2020-12-31</td>\n",
       "    </tr>\n",
       "    <tr>\n",
       "      <th>9</th>\n",
       "      <td>20-Oct</td>\n",
       "      <td>1028256</td>\n",
       "      <td>24453</td>\n",
       "      <td>19746</td>\n",
       "      <td>140142</td>\n",
       "      <td>112996</td>\n",
       "      <td>704112</td>\n",
       "      <td>101296</td>\n",
       "      <td>0</td>\n",
       "      <td>13909</td>\n",
       "      <td>2020-12-31</td>\n",
       "    </tr>\n",
       "    <tr>\n",
       "      <th>10</th>\n",
       "      <td>20-Nov</td>\n",
       "      <td>1060958</td>\n",
       "      <td>18842</td>\n",
       "      <td>58569</td>\n",
       "      <td>145018</td>\n",
       "      <td>63142</td>\n",
       "      <td>827550</td>\n",
       "      <td>87984</td>\n",
       "      <td>82</td>\n",
       "      <td>14593</td>\n",
       "      <td>2020-12-31</td>\n",
       "    </tr>\n",
       "    <tr>\n",
       "      <th>11</th>\n",
       "      <td>20-Dec</td>\n",
       "      <td>605225</td>\n",
       "      <td>9259</td>\n",
       "      <td>8578</td>\n",
       "      <td>45276</td>\n",
       "      <td>52828</td>\n",
       "      <td>450468</td>\n",
       "      <td>52927</td>\n",
       "      <td>0</td>\n",
       "      <td>21563</td>\n",
       "      <td>2020-12-31</td>\n",
       "    </tr>\n",
       "  </tbody>\n",
       "</table>\n",
       "</div>"
      ],
      "text/plain": [
       "      구분연월  행태별 - 개별여행  행태별 - 부분패키지  행태별 - 패키지  목적별 - 레저스포츠  목적별 - 회의및업무  \\\n",
       "0   20-Jan     1028221        54338      21879       120890        40753   \n",
       "1   20-Feb      581380        15921       2274        30042        76200   \n",
       "2   20-Mar      468096         7945       1135        27280        54477   \n",
       "3   20-Apr      533225         5400       2474        28394        53859   \n",
       "4   20-May      750271        13458       1887        57543        57824   \n",
       "5   20-Jun      846253         8157       6118        27181        59140   \n",
       "6   20-Jul      968395        12874       6825        49742        68728   \n",
       "7   20-Aug     1077542        22866      26689        47232        45202   \n",
       "8   20-Sep      707026        13942       5201        52730        39936   \n",
       "9   20-Oct     1028256        24453      19746       140142       112996   \n",
       "10  20-Nov     1060958        18842      58569       145018        63142   \n",
       "11  20-Dec      605225         9259       8578        45276        52828   \n",
       "\n",
       "    목적별 - 휴양및관람  목적별 - 친지방문  목적별 - 교육여행  목적별 - 기타방문     데이터기준일자  \n",
       "0        823210      105958         144       13483  2020-12-31  \n",
       "1        408295       70514           0       14524  2020-12-31  \n",
       "2        324593       56747           0       14079  2020-12-31  \n",
       "3        381297       67017           0       10532  2020-12-31  \n",
       "4        584612       55751         120        9766  2020-12-31  \n",
       "5        681136       87691           0        5380  2020-12-31  \n",
       "6        749450      109765           0       10409  2020-12-31  \n",
       "7        999753       26589         100        8221  2020-12-31  \n",
       "8        547341       74683           0       11479  2020-12-31  \n",
       "9        704112      101296           0       13909  2020-12-31  \n",
       "10       827550       87984          82       14593  2020-12-31  \n",
       "11       450468       52927           0       21563  2020-12-31  "
      ]
     },
     "execution_count": 21,
     "metadata": {},
     "output_type": "execute_result"
    }
   ],
   "source": [
    "# jeju 데이터는 2020년 제주특별자치도 내국인 관광객 현황을 정리해 놓은 데이터이다.\n",
    "jj = pd.read_csv('jeju.csv')\n",
    "\n",
    "jj"
   ]
  },
  {
   "cell_type": "code",
   "execution_count": 24,
   "metadata": {},
   "outputs": [
    {
     "data": {
      "text/plain": [
       "구분연월           0\n",
       "행태별 - 개별여행     0\n",
       "행태별 - 부분패키지    0\n",
       "행태별 - 패키지      0\n",
       "목적별 - 레저스포츠    0\n",
       "목적별 - 회의및업무    0\n",
       "목적별 - 휴양및관람    0\n",
       "목적별 - 친지방문     0\n",
       "목적별 - 교육여행     0\n",
       "목적별 - 기타방문     0\n",
       "데이터기준일자        0\n",
       "dtype: int64"
      ]
     },
     "execution_count": 24,
     "metadata": {},
     "output_type": "execute_result"
    }
   ],
   "source": [
    "jj.isna().sum() # 결측치 확인"
   ]
  },
  {
   "cell_type": "code",
   "execution_count": 3,
   "metadata": {},
   "outputs": [
    {
     "name": "stdout",
     "output_type": "stream",
     "text": [
      "<class 'pandas.core.frame.DataFrame'>\n",
      "RangeIndex: 12 entries, 0 to 11\n",
      "Data columns (total 11 columns):\n",
      " #   Column       Non-Null Count  Dtype \n",
      "---  ------       --------------  ----- \n",
      " 0   구분연월         12 non-null     object\n",
      " 1   행태별 - 개별여행   12 non-null     int64 \n",
      " 2   행태별 - 부분패키지  12 non-null     int64 \n",
      " 3   행태별 - 패키지    12 non-null     int64 \n",
      " 4   목적별 - 레저스포츠  12 non-null     int64 \n",
      " 5   목적별 - 회의및업무  12 non-null     int64 \n",
      " 6   목적별 - 휴양및관람  12 non-null     int64 \n",
      " 7   목적별 - 친지방문   12 non-null     int64 \n",
      " 8   목적별 - 교육여행   12 non-null     int64 \n",
      " 9   목적별 - 기타방문   12 non-null     int64 \n",
      " 10  데이터기준일자      12 non-null     object\n",
      "dtypes: int64(9), object(2)\n",
      "memory usage: 1.2+ KB\n"
     ]
    }
   ],
   "source": [
    "# 분석 내용\n",
    "# 1. 제주도 내국인 관광객이 가장 많은 월은 어느 월인가?\n",
    "\n",
    "jj.info()"
   ]
  },
  {
   "cell_type": "code",
   "execution_count": 4,
   "metadata": {},
   "outputs": [
    {
     "data": {
      "text/html": [
       "<div>\n",
       "<style scoped>\n",
       "    .dataframe tbody tr th:only-of-type {\n",
       "        vertical-align: middle;\n",
       "    }\n",
       "\n",
       "    .dataframe tbody tr th {\n",
       "        vertical-align: top;\n",
       "    }\n",
       "\n",
       "    .dataframe thead th {\n",
       "        text-align: right;\n",
       "    }\n",
       "</style>\n",
       "<table border=\"1\" class=\"dataframe\">\n",
       "  <thead>\n",
       "    <tr style=\"text-align: right;\">\n",
       "      <th></th>\n",
       "      <th>count</th>\n",
       "      <th>mean</th>\n",
       "      <th>std</th>\n",
       "      <th>min</th>\n",
       "      <th>25%</th>\n",
       "      <th>50%</th>\n",
       "      <th>75%</th>\n",
       "      <th>max</th>\n",
       "    </tr>\n",
       "  </thead>\n",
       "  <tbody>\n",
       "    <tr>\n",
       "      <th>행태별 - 개별여행</th>\n",
       "      <td>12.0</td>\n",
       "      <td>804570.666667</td>\n",
       "      <td>225174.295925</td>\n",
       "      <td>468096.0</td>\n",
       "      <td>599263.75</td>\n",
       "      <td>798262.0</td>\n",
       "      <td>1028229.75</td>\n",
       "      <td>1077542.0</td>\n",
       "    </tr>\n",
       "    <tr>\n",
       "      <th>행태별 - 부분패키지</th>\n",
       "      <td>12.0</td>\n",
       "      <td>17287.916667</td>\n",
       "      <td>13077.536677</td>\n",
       "      <td>5400.0</td>\n",
       "      <td>8983.50</td>\n",
       "      <td>13700.0</td>\n",
       "      <td>19848.00</td>\n",
       "      <td>54338.0</td>\n",
       "    </tr>\n",
       "    <tr>\n",
       "      <th>행태별 - 패키지</th>\n",
       "      <td>12.0</td>\n",
       "      <td>13447.916667</td>\n",
       "      <td>16629.250972</td>\n",
       "      <td>1135.0</td>\n",
       "      <td>2424.00</td>\n",
       "      <td>6471.5</td>\n",
       "      <td>20279.25</td>\n",
       "      <td>58569.0</td>\n",
       "    </tr>\n",
       "    <tr>\n",
       "      <th>목적별 - 레저스포츠</th>\n",
       "      <td>12.0</td>\n",
       "      <td>64289.166667</td>\n",
       "      <td>44441.657008</td>\n",
       "      <td>27181.0</td>\n",
       "      <td>29630.00</td>\n",
       "      <td>48487.0</td>\n",
       "      <td>73379.75</td>\n",
       "      <td>145018.0</td>\n",
       "    </tr>\n",
       "    <tr>\n",
       "      <th>목적별 - 회의및업무</th>\n",
       "      <td>12.0</td>\n",
       "      <td>60423.750000</td>\n",
       "      <td>19707.015074</td>\n",
       "      <td>39936.0</td>\n",
       "      <td>50921.50</td>\n",
       "      <td>56150.5</td>\n",
       "      <td>64538.50</td>\n",
       "      <td>112996.0</td>\n",
       "    </tr>\n",
       "    <tr>\n",
       "      <th>목적별 - 휴양및관람</th>\n",
       "      <td>12.0</td>\n",
       "      <td>623484.750000</td>\n",
       "      <td>208967.990609</td>\n",
       "      <td>324593.0</td>\n",
       "      <td>439924.75</td>\n",
       "      <td>632874.0</td>\n",
       "      <td>767890.00</td>\n",
       "      <td>999753.0</td>\n",
       "    </tr>\n",
       "    <tr>\n",
       "      <th>목적별 - 친지방문</th>\n",
       "      <td>12.0</td>\n",
       "      <td>74743.500000</td>\n",
       "      <td>24873.918558</td>\n",
       "      <td>26589.0</td>\n",
       "      <td>56498.00</td>\n",
       "      <td>72598.5</td>\n",
       "      <td>91312.00</td>\n",
       "      <td>109765.0</td>\n",
       "    </tr>\n",
       "    <tr>\n",
       "      <th>목적별 - 교육여행</th>\n",
       "      <td>12.0</td>\n",
       "      <td>37.166667</td>\n",
       "      <td>56.635731</td>\n",
       "      <td>0.0</td>\n",
       "      <td>0.00</td>\n",
       "      <td>0.0</td>\n",
       "      <td>86.50</td>\n",
       "      <td>144.0</td>\n",
       "    </tr>\n",
       "    <tr>\n",
       "      <th>목적별 - 기타방문</th>\n",
       "      <td>12.0</td>\n",
       "      <td>12328.166667</td>\n",
       "      <td>4061.710652</td>\n",
       "      <td>5380.0</td>\n",
       "      <td>10248.25</td>\n",
       "      <td>12481.0</td>\n",
       "      <td>14190.25</td>\n",
       "      <td>21563.0</td>\n",
       "    </tr>\n",
       "  </tbody>\n",
       "</table>\n",
       "</div>"
      ],
      "text/plain": [
       "             count           mean            std       min        25%  \\\n",
       "행태별 - 개별여행    12.0  804570.666667  225174.295925  468096.0  599263.75   \n",
       "행태별 - 부분패키지   12.0   17287.916667   13077.536677    5400.0    8983.50   \n",
       "행태별 - 패키지     12.0   13447.916667   16629.250972    1135.0    2424.00   \n",
       "목적별 - 레저스포츠   12.0   64289.166667   44441.657008   27181.0   29630.00   \n",
       "목적별 - 회의및업무   12.0   60423.750000   19707.015074   39936.0   50921.50   \n",
       "목적별 - 휴양및관람   12.0  623484.750000  208967.990609  324593.0  439924.75   \n",
       "목적별 - 친지방문    12.0   74743.500000   24873.918558   26589.0   56498.00   \n",
       "목적별 - 교육여행    12.0      37.166667      56.635731       0.0       0.00   \n",
       "목적별 - 기타방문    12.0   12328.166667    4061.710652    5380.0   10248.25   \n",
       "\n",
       "                  50%         75%        max  \n",
       "행태별 - 개별여행   798262.0  1028229.75  1077542.0  \n",
       "행태별 - 부분패키지   13700.0    19848.00    54338.0  \n",
       "행태별 - 패키지      6471.5    20279.25    58569.0  \n",
       "목적별 - 레저스포츠   48487.0    73379.75   145018.0  \n",
       "목적별 - 회의및업무   56150.5    64538.50   112996.0  \n",
       "목적별 - 휴양및관람  632874.0   767890.00   999753.0  \n",
       "목적별 - 친지방문    72598.5    91312.00   109765.0  \n",
       "목적별 - 교육여행        0.0       86.50      144.0  \n",
       "목적별 - 기타방문    12481.0    14190.25    21563.0  "
      ]
     },
     "execution_count": 4,
     "metadata": {},
     "output_type": "execute_result"
    }
   ],
   "source": [
    "jj.describe().T"
   ]
  },
  {
   "cell_type": "code",
   "execution_count": 5,
   "metadata": {},
   "outputs": [],
   "source": [
    "jj_1 = jj.drop(columns='구분연월')"
   ]
  },
  {
   "cell_type": "code",
   "execution_count": 6,
   "metadata": {},
   "outputs": [],
   "source": [
    "jj_2 = jj_1.rename(index={0:\"Jan\",1:\"Feb\",2:\"Mar\",3:\"Apr\",4:\"May\",5:\"Jun\",6:\"Jul\",7:\"Aug\",8:\"Sep\",9:\"Oct\",10:\"Nov\",11:\"Dec\"})"
   ]
  },
  {
   "cell_type": "code",
   "execution_count": 7,
   "metadata": {},
   "outputs": [
    {
     "data": {
      "text/html": [
       "<div>\n",
       "<style scoped>\n",
       "    .dataframe tbody tr th:only-of-type {\n",
       "        vertical-align: middle;\n",
       "    }\n",
       "\n",
       "    .dataframe tbody tr th {\n",
       "        vertical-align: top;\n",
       "    }\n",
       "\n",
       "    .dataframe thead th {\n",
       "        text-align: right;\n",
       "    }\n",
       "</style>\n",
       "<table border=\"1\" class=\"dataframe\">\n",
       "  <thead>\n",
       "    <tr style=\"text-align: right;\">\n",
       "      <th></th>\n",
       "      <th>행태별 - 개별여행</th>\n",
       "      <th>행태별 - 부분패키지</th>\n",
       "      <th>행태별 - 패키지</th>\n",
       "      <th>목적별 - 레저스포츠</th>\n",
       "      <th>목적별 - 회의및업무</th>\n",
       "      <th>목적별 - 휴양및관람</th>\n",
       "      <th>목적별 - 친지방문</th>\n",
       "      <th>목적별 - 교육여행</th>\n",
       "      <th>목적별 - 기타방문</th>\n",
       "      <th>데이터기준일자</th>\n",
       "    </tr>\n",
       "  </thead>\n",
       "  <tbody>\n",
       "    <tr>\n",
       "      <th>Jan</th>\n",
       "      <td>1028221</td>\n",
       "      <td>54338</td>\n",
       "      <td>21879</td>\n",
       "      <td>120890</td>\n",
       "      <td>40753</td>\n",
       "      <td>823210</td>\n",
       "      <td>105958</td>\n",
       "      <td>144</td>\n",
       "      <td>13483</td>\n",
       "      <td>2020-12-31</td>\n",
       "    </tr>\n",
       "    <tr>\n",
       "      <th>Feb</th>\n",
       "      <td>581380</td>\n",
       "      <td>15921</td>\n",
       "      <td>2274</td>\n",
       "      <td>30042</td>\n",
       "      <td>76200</td>\n",
       "      <td>408295</td>\n",
       "      <td>70514</td>\n",
       "      <td>0</td>\n",
       "      <td>14524</td>\n",
       "      <td>2020-12-31</td>\n",
       "    </tr>\n",
       "    <tr>\n",
       "      <th>Mar</th>\n",
       "      <td>468096</td>\n",
       "      <td>7945</td>\n",
       "      <td>1135</td>\n",
       "      <td>27280</td>\n",
       "      <td>54477</td>\n",
       "      <td>324593</td>\n",
       "      <td>56747</td>\n",
       "      <td>0</td>\n",
       "      <td>14079</td>\n",
       "      <td>2020-12-31</td>\n",
       "    </tr>\n",
       "    <tr>\n",
       "      <th>Apr</th>\n",
       "      <td>533225</td>\n",
       "      <td>5400</td>\n",
       "      <td>2474</td>\n",
       "      <td>28394</td>\n",
       "      <td>53859</td>\n",
       "      <td>381297</td>\n",
       "      <td>67017</td>\n",
       "      <td>0</td>\n",
       "      <td>10532</td>\n",
       "      <td>2020-12-31</td>\n",
       "    </tr>\n",
       "    <tr>\n",
       "      <th>May</th>\n",
       "      <td>750271</td>\n",
       "      <td>13458</td>\n",
       "      <td>1887</td>\n",
       "      <td>57543</td>\n",
       "      <td>57824</td>\n",
       "      <td>584612</td>\n",
       "      <td>55751</td>\n",
       "      <td>120</td>\n",
       "      <td>9766</td>\n",
       "      <td>2020-12-31</td>\n",
       "    </tr>\n",
       "    <tr>\n",
       "      <th>Jun</th>\n",
       "      <td>846253</td>\n",
       "      <td>8157</td>\n",
       "      <td>6118</td>\n",
       "      <td>27181</td>\n",
       "      <td>59140</td>\n",
       "      <td>681136</td>\n",
       "      <td>87691</td>\n",
       "      <td>0</td>\n",
       "      <td>5380</td>\n",
       "      <td>2020-12-31</td>\n",
       "    </tr>\n",
       "    <tr>\n",
       "      <th>Jul</th>\n",
       "      <td>968395</td>\n",
       "      <td>12874</td>\n",
       "      <td>6825</td>\n",
       "      <td>49742</td>\n",
       "      <td>68728</td>\n",
       "      <td>749450</td>\n",
       "      <td>109765</td>\n",
       "      <td>0</td>\n",
       "      <td>10409</td>\n",
       "      <td>2020-12-31</td>\n",
       "    </tr>\n",
       "    <tr>\n",
       "      <th>Aug</th>\n",
       "      <td>1077542</td>\n",
       "      <td>22866</td>\n",
       "      <td>26689</td>\n",
       "      <td>47232</td>\n",
       "      <td>45202</td>\n",
       "      <td>999753</td>\n",
       "      <td>26589</td>\n",
       "      <td>100</td>\n",
       "      <td>8221</td>\n",
       "      <td>2020-12-31</td>\n",
       "    </tr>\n",
       "    <tr>\n",
       "      <th>Sep</th>\n",
       "      <td>707026</td>\n",
       "      <td>13942</td>\n",
       "      <td>5201</td>\n",
       "      <td>52730</td>\n",
       "      <td>39936</td>\n",
       "      <td>547341</td>\n",
       "      <td>74683</td>\n",
       "      <td>0</td>\n",
       "      <td>11479</td>\n",
       "      <td>2020-12-31</td>\n",
       "    </tr>\n",
       "    <tr>\n",
       "      <th>Oct</th>\n",
       "      <td>1028256</td>\n",
       "      <td>24453</td>\n",
       "      <td>19746</td>\n",
       "      <td>140142</td>\n",
       "      <td>112996</td>\n",
       "      <td>704112</td>\n",
       "      <td>101296</td>\n",
       "      <td>0</td>\n",
       "      <td>13909</td>\n",
       "      <td>2020-12-31</td>\n",
       "    </tr>\n",
       "    <tr>\n",
       "      <th>Nov</th>\n",
       "      <td>1060958</td>\n",
       "      <td>18842</td>\n",
       "      <td>58569</td>\n",
       "      <td>145018</td>\n",
       "      <td>63142</td>\n",
       "      <td>827550</td>\n",
       "      <td>87984</td>\n",
       "      <td>82</td>\n",
       "      <td>14593</td>\n",
       "      <td>2020-12-31</td>\n",
       "    </tr>\n",
       "    <tr>\n",
       "      <th>Dec</th>\n",
       "      <td>605225</td>\n",
       "      <td>9259</td>\n",
       "      <td>8578</td>\n",
       "      <td>45276</td>\n",
       "      <td>52828</td>\n",
       "      <td>450468</td>\n",
       "      <td>52927</td>\n",
       "      <td>0</td>\n",
       "      <td>21563</td>\n",
       "      <td>2020-12-31</td>\n",
       "    </tr>\n",
       "  </tbody>\n",
       "</table>\n",
       "</div>"
      ],
      "text/plain": [
       "     행태별 - 개별여행  행태별 - 부분패키지  행태별 - 패키지  목적별 - 레저스포츠  목적별 - 회의및업무  \\\n",
       "Jan     1028221        54338      21879       120890        40753   \n",
       "Feb      581380        15921       2274        30042        76200   \n",
       "Mar      468096         7945       1135        27280        54477   \n",
       "Apr      533225         5400       2474        28394        53859   \n",
       "May      750271        13458       1887        57543        57824   \n",
       "Jun      846253         8157       6118        27181        59140   \n",
       "Jul      968395        12874       6825        49742        68728   \n",
       "Aug     1077542        22866      26689        47232        45202   \n",
       "Sep      707026        13942       5201        52730        39936   \n",
       "Oct     1028256        24453      19746       140142       112996   \n",
       "Nov     1060958        18842      58569       145018        63142   \n",
       "Dec      605225         9259       8578        45276        52828   \n",
       "\n",
       "     목적별 - 휴양및관람  목적별 - 친지방문  목적별 - 교육여행  목적별 - 기타방문     데이터기준일자  \n",
       "Jan       823210      105958         144       13483  2020-12-31  \n",
       "Feb       408295       70514           0       14524  2020-12-31  \n",
       "Mar       324593       56747           0       14079  2020-12-31  \n",
       "Apr       381297       67017           0       10532  2020-12-31  \n",
       "May       584612       55751         120        9766  2020-12-31  \n",
       "Jun       681136       87691           0        5380  2020-12-31  \n",
       "Jul       749450      109765           0       10409  2020-12-31  \n",
       "Aug       999753       26589         100        8221  2020-12-31  \n",
       "Sep       547341       74683           0       11479  2020-12-31  \n",
       "Oct       704112      101296           0       13909  2020-12-31  \n",
       "Nov       827550       87984          82       14593  2020-12-31  \n",
       "Dec       450468       52927           0       21563  2020-12-31  "
      ]
     },
     "execution_count": 7,
     "metadata": {},
     "output_type": "execute_result"
    }
   ],
   "source": [
    "jj_2"
   ]
  },
  {
   "cell_type": "code",
   "execution_count": 8,
   "metadata": {},
   "outputs": [
    {
     "data": {
      "text/plain": [
       "Jan    2208876\n",
       "Feb    1199150\n",
       "Mar     954352\n",
       "Apr    1082198\n",
       "May    1531232\n",
       "Jun    1721056\n",
       "Jul    1976188\n",
       "Aug    2254194\n",
       "Sep    1452338\n",
       "Oct    2144910\n",
       "Nov    2276738\n",
       "Dec    1246124\n",
       "dtype: int64"
      ]
     },
     "execution_count": 8,
     "metadata": {},
     "output_type": "execute_result"
    }
   ],
   "source": [
    "jj_2.sum(axis=1)"
   ]
  },
  {
   "cell_type": "code",
   "execution_count": 9,
   "metadata": {},
   "outputs": [
    {
     "data": {
      "text/plain": [
       "<BarContainer object of 12 artists>"
      ]
     },
     "execution_count": 9,
     "metadata": {},
     "output_type": "execute_result"
    },
    {
     "data": {
      "image/png": "[encoded data removed]",
      "text/plain": [
       "<Figure size 720x576 with 1 Axes>"
      ]
     },
     "metadata": {
      "needs_background": "light"
     },
     "output_type": "display_data"
    }
   ],
   "source": [
    "import matplotlib.pyplot as plt\n",
    "\n",
    "fig, ax = plt.subplots(figsize=(10,8))\n",
    "plt.bar(jj_2.sum(axis=1).index, jj_2.sum(axis=1))\n",
    "    "
   ]
  },
  {
   "cell_type": "code",
   "execution_count": 25,
   "metadata": {},
   "outputs": [
    {
     "data": {
      "text/plain": [
       "<matplotlib.axes._subplots.AxesSubplot at 0x205e57076c8>"
      ]
     },
     "execution_count": 25,
     "metadata": {},
     "output_type": "execute_result"
    },
    {
     "data": {
      "image/png": "[encoded data removed]",
      "text/plain": [
       "<Figure size 432x288 with 1 Axes>"
      ]
     },
     "metadata": {
      "needs_background": "light"
     },
     "output_type": "display_data"
    }
   ],
   "source": [
    "import seaborn as sns\n",
    "\n",
    "sns.barplot(jj_2.sum(axis=1).index, jj_2.sum(axis=1))"
   ]
  },
  {
   "cell_type": "code",
   "execution_count": 11,
   "metadata": {},
   "outputs": [],
   "source": [
    "# 위에 두 그래프를 보면 1월과 11월에 내국인 관광객이 가장 많은 달인 것을 알 수 있다."
   ]
  },
  {
   "cell_type": "code",
   "execution_count": 12,
   "metadata": {},
   "outputs": [],
   "source": [
    "# 분석 내용\n",
    "# 2. 11월에 방문한 내국인 관광객들 중 관광 목적으로 가장 많이 방문한 이유는?"
   ]
  },
  {
   "cell_type": "code",
   "execution_count": 13,
   "metadata": {},
   "outputs": [],
   "source": [
    "jj_3 = jj_2.iloc[10]"
   ]
  },
  {
   "cell_type": "code",
   "execution_count": 14,
   "metadata": {},
   "outputs": [
    {
     "data": {
      "text/plain": [
       "행태별 - 개별여행        1060958\n",
       "행태별 - 부분패키지         18842\n",
       "행태별 - 패키지           58569\n",
       "목적별 - 레저스포츠        145018\n",
       "목적별 - 회의및업무         63142\n",
       "목적별 - 휴양및관람        827550\n",
       "목적별 - 친지방문          87984\n",
       "목적별 - 교육여행             82\n",
       "목적별 - 기타방문          14593\n",
       "데이터기준일자        2020-12-31\n",
       "Name: Nov, dtype: object"
      ]
     },
     "execution_count": 14,
     "metadata": {},
     "output_type": "execute_result"
    }
   ],
   "source": [
    "jj_3"
   ]
  },
  {
   "cell_type": "code",
   "execution_count": 15,
   "metadata": {},
   "outputs": [],
   "source": [
    "jj_4 = jj_3.drop('데이터기준일자')"
   ]
  },
  {
   "cell_type": "code",
   "execution_count": 16,
   "metadata": {},
   "outputs": [
    {
     "data": {
      "text/plain": [
       "행태별 - 개별여행     1060958\n",
       "행태별 - 부분패키지      18842\n",
       "행태별 - 패키지        58569\n",
       "목적별 - 레저스포츠     145018\n",
       "목적별 - 회의및업무      63142\n",
       "목적별 - 휴양및관람     827550\n",
       "목적별 - 친지방문       87984\n",
       "목적별 - 교육여행          82\n",
       "목적별 - 기타방문       14593\n",
       "Name: Nov, dtype: int64"
      ]
     },
     "execution_count": 16,
     "metadata": {},
     "output_type": "execute_result"
    }
   ],
   "source": [
    "pd.to_numeric(jj_4)"
   ]
  },
  {
   "cell_type": "code",
   "execution_count": 19,
   "metadata": {},
   "outputs": [
    {
     "data": {
      "text/plain": [
       "<BarContainer object of 9 artists>"
      ]
     },
     "execution_count": 19,
     "metadata": {},
     "output_type": "execute_result"
    },
    {
     "data": {
      "image/png": "[encoded data removed]",
      "text/plain": [
       "<Figure size 720x576 with 1 Axes>"
      ]
     },
     "metadata": {
      "needs_background": "light"
     },
     "output_type": "display_data"
    }
   ],
   "source": [
    "import matplotlib.pyplot as plt\n",
    "\n",
    "fig, ax = plt.subplots(figsize=(10,8))\n",
    "plt.bar(jj_4.index, jj_4)"
   ]
  },
  {
   "cell_type": "code",
   "execution_count": 20,
   "metadata": {},
   "outputs": [
    {
     "data": {
      "text/plain": [
       "<matplotlib.axes._subplots.AxesSubplot at 0x205e5206548>"
      ]
     },
     "execution_count": 20,
     "metadata": {},
     "output_type": "execute_result"
    },
    {
     "data": {
      "image/png": "[encoded data removed]",
      "text/plain": [
       "<Figure size 432x288 with 1 Axes>"
      ]
     },
     "metadata": {
      "needs_background": "light"
     },
     "output_type": "display_data"
    }
   ],
   "source": [
    "import seaborn as sns\n",
    "\n",
    "sns.barplot(jj_4.index, jj_4)"
   ]
  },
  {
   "cell_type": "code",
   "execution_count": null,
   "metadata": {},
   "outputs": [],
   "source": [
    "# 위의 그래프를 보면 11월에 방문한 내국인 관광객들은 행태별-개별여행을 목적으로 방문한 이유가 가장 많다."
   ]
  },
  {
   "cell_type": "code",
   "execution_count": null,
   "metadata": {},
   "outputs": [],
   "source": [
    "# 어려웠던점: 수업시간에 배운 내용만 보다가 응용을 하려고 보니 여러 오류들을 봉착해 해결하기 위한 과정이 많이 어려웠다."
   ]
  }
 ],
 "metadata": {
  "kernelspec": {
   "display_name": "Python 3",
   "language": "python",
   "name": "python3"
  },
  "language_info": {
   "codemirror_mode": {
    "name": "ipython",
    "version": 3
   },
   "file_extension": ".py",
   "mimetype": "text/x-python",
   "name": "python",
   "nbconvert_exporter": "python",
   "pygments_lexer": "ipython3",
   "version": "3.7.6"
  }
 },
 "nbformat": 4,
 "nbformat_minor": 4
}
